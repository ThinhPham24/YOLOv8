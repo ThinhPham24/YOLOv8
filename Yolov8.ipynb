{
  "nbformat": 4,
  "nbformat_minor": 0,
  "metadata": {
    "colab": {
      "provenance": [],
      "gpuType": "A100",
      "private_outputs": true,
      "cell_execution_strategy": "setup"
    },
    "kernelspec": {
      "name": "python3",
      "display_name": "Python 3"
    },
    "language_info": {
      "name": "python"
    },
    "accelerator": "GPU"
  },
  "cells": [
    {
      "cell_type": "markdown",
      "source": [
        "<div align=\"center\">\n",
        "\n",
        "  <a href=\"https://ultralytics.com/yolov8\" target=\"_blank\">\n",
        "    <img width=\"1024\", src=\"https://raw.githubusercontent.com/ultralytics/assets/main/yolov8/banner-yolov8.png\"></a>\n",
        "\n",
        "\n",
        "<br>\n",
        "  <a href=\"https://console.paperspace.com/github/ultralytics/ultralytics\"><img src=\"https://assets.paperspace.io/img/gradient-badge.svg\" alt=\"Run on Gradient\"/></a>\n",
        "  <a href=\"https://colab.research.google.com/github/ultralytics/ultralytics/blob/main/examples/tutorial.ipynb\"><img src=\"https://colab.research.google.com/assets/colab-badge.svg\" alt=\"Open In Colab\"></a>\n",
        "  <a href=\"https://www.kaggle.com/ultralytics/yolov8\"><img src=\"https://kaggle.com/static/images/open-in-kaggle.svg\" alt=\"Open In Kaggle\"></a>\n",
        "<br>\n",
        "\n",
        "Welcome to the Ultralytics YOLOv8 🚀 notebook! <a href=\"https://github.com/ultralytics/ultralytics\">YOLOv8</a> is the latest version of the YOLO (You Only Look Once) AI models developed by <a href=\"https://ultralytics.com\">Ultralytics</a>. This notebook serves as the starting point for exploring the various resources available to help you get started with YOLOv8 and understand its features and capabilities.\n",
        "\n",
        "YOLOv8 models are fast, accurate, and easy to use, making them ideal for various object detection and image segmentation tasks. They can be trained on large datasets and run on diverse hardware platforms, from CPUs to GPUs.\n",
        "\n",
        "We hope that the resources in this notebook will help you get the most out of YOLOv8. Please browse the YOLOv8 <a href=\"https://docs.ultralytics.com/\">Docs</a> for details, raise an issue on <a href=\"https://github.com/ultralytics/ultralytics\">GitHub</a> for support, and join our <a href=\"https://discord.gg/2wNGbc6g9X\">Discord</a> community for questions and discussions!\n",
        "\n",
        "</div>"
      ],
      "metadata": {
        "id": "KpK-BnsrgZS1"
      }
    },
    {
      "cell_type": "markdown",
      "source": [
        "# Setup\n",
        "\n",
        "Pip install `ultralytics` and [dependencies](https://github.com/ultralytics/ultralytics/blob/main/requirements.txt) and check software and hardware."
      ],
      "metadata": {
        "id": "P5AEHmS3gbXV"
      }
    },
    {
      "cell_type": "code",
      "execution_count": null,
      "metadata": {
        "id": "hcJOj83pgRp8"
      },
      "outputs": [],
      "source": [
        "%pip install ultralytics\n",
        "import ultralytics\n",
        "ultralytics.checks()"
      ]
    },
    {
      "cell_type": "markdown",
      "source": [
        "# Connect google drive"
      ],
      "metadata": {
        "id": "ku8gF1osgjQT"
      }
    },
    {
      "cell_type": "code",
      "source": [
        "from google.colab import drive\n",
        "import os\n",
        "drive.mount('/content/drive')"
      ],
      "metadata": {
        "id": "9NpZaDdIgycw"
      },
      "execution_count": null,
      "outputs": []
    },
    {
      "cell_type": "code",
      "source": [
        "# Extract and copy to another direction\n",
        "!unzip '/content/drive/MyDrive/TEACHING_COMPUTER_VISION/DATA_BASE/DATA_TRAIN.zip' -d '/content'"
      ],
      "metadata": {
        "id": "qbtt1AcOkX6j"
      },
      "execution_count": null,
      "outputs": []
    },
    {
      "cell_type": "markdown",
      "source": [
        "# 1. Custom Trainning\n",
        "\n",
        "<p align=\"\"><a href=\"https://bit.ly/ultralytics_hub\"><img width=\"1000\" src=\"https://github.com/ultralytics/assets/raw/main/yolov8/banner-integrations.png\"/></a></p>\n",
        "\n",
        "Train YOLOv8 on [Detect](https://docs.ultralytics.com/tasks/detect/), [Segment](https://docs.ultralytics.com/tasks/segment/), [Classify](https://docs.ultralytics.com/tasks/classify/) and [Pose](https://docs.ultralytics.com/tasks/pose/) datasets. See [YOLOv8 Train Docs](https://docs.ultralytics.com/modes/train/) for more information."
      ],
      "metadata": {
        "id": "fOldnwVAg6ll"
      }
    },
    {
      "cell_type": "markdown",
      "source": [
        "### 1.1 Segmentation\n",
        "\n",
        "YOLOv8 segmentation models use the -seg suffix, i.e. yolov8n-seg.pt and are pretrained on COCO. See Segmentation Docs for full details."
      ],
      "metadata": {
        "id": "2NMT-UXfuxNH"
      }
    },
    {
      "cell_type": "code",
      "source": [
        "!nvidia-smi"
      ],
      "metadata": {
        "id": "EqzRlYtaA8St"
      },
      "execution_count": null,
      "outputs": []
    },
    {
      "cell_type": "code",
      "source": [
        "# First, You should run the trainning program, IF not run, run this code\n",
        "!pip install torch==1.11.0+cu113 torchvision==0.12.0+cu113 torchaudio==0.11.0 --extra-index-url https://download.pytorch.org/whl/cu113"
      ],
      "metadata": {
        "id": "eG67mQDZFUvJ"
      },
      "execution_count": null,
      "outputs": []
    },
    {
      "cell_type": "code",
      "source": [
        "# Auto connection colab\n",
        "import IPython\n",
        "from google.colab import output\n",
        "display(IPython.display.Javascript('''\n",
        "function KeepClicking(){\n",
        "console.log(\"Clicking\");\n",
        "document.querySelector(\"colab-connect-button\").click()\n",
        "}\n",
        "setInterval(KeepClicking,60000)\n",
        "'''))"
      ],
      "metadata": {
        "id": "BltdiJOEKp64"
      },
      "execution_count": null,
      "outputs": []
    },
    {
      "cell_type": "code",
      "source": [
        "# Train YOLOv8l on your own dataset in coco format for 100 epochs\n",
        "!yolo train model=yolov8l-seg.pt data=/content/DATA_TRAIN/orchid_config.yaml epochs= 30 imgsz=720"
      ],
      "metadata": {
        "id": "plafQtpEhDMV"
      },
      "execution_count": null,
      "outputs": []
    },
    {
      "cell_type": "code",
      "source": [
        "!yolo export model=/content/runs/segment/train/weights/best.pt format=onnx"
      ],
      "metadata": {
        "id": "1oneCn7kYitG"
      },
      "execution_count": null,
      "outputs": []
    },
    {
      "cell_type": "code",
      "source": [
        "# Download folfer\n",
        "from google.colab import files\n",
        "files.download('/content/runs/segment/train/weights/best.pt')"
      ],
      "metadata": {
        "id": "GKph8gjwY02t"
      },
      "execution_count": null,
      "outputs": []
    },
    {
      "cell_type": "code",
      "source": [
        "from google.colab import files\n",
        "files.download('/content/runs/segment/train/weights/best.onnx')"
      ],
      "metadata": {
        "id": "UR2I1ucvY2QW"
      },
      "execution_count": null,
      "outputs": []
    },
    {
      "cell_type": "markdown",
      "source": [
        "### 1.2 Tensorboard\n",
        "TensorBoard is a visualization toolkit for TensorFlow. It allows you to visualize your TensorFlow graph, plot quantitative metrics about the execution of your graph, and show additional data like images that pass through it"
      ],
      "metadata": {
        "id": "MhKYyV5lh0gm"
      }
    },
    {
      "cell_type": "code",
      "source": [
        "# Show loss graph\n",
        "!load_ext tensorboard\n",
        "!tensorboard --logdir ultralytics/runs  # replace with 'runs' directory"
      ],
      "metadata": {
        "id": "JMu3vjHRhujn"
      },
      "execution_count": null,
      "outputs": []
    },
    {
      "cell_type": "markdown",
      "source": [
        "# 2. Inference"
      ],
      "metadata": {
        "id": "X27UoRKmh_qa"
      }
    },
    {
      "cell_type": "markdown",
      "source": [
        "### Tasks\n",
        "\n",
        "YOLOv8 can train, val, predict and export models for the most common tasks in vision AI: [Detect](https://docs.ultralytics.com/tasks/detect/), [Segment](https://docs.ultralytics.com/tasks/segment/), [Classify](https://docs.ultralytics.com/tasks/classify/) and [Pose](https://docs.ultralytics.com/tasks/pose/). See [YOLOv8 Tasks Docs](https://docs.ultralytics.com/tasks/) for more information.\n",
        "\n",
        "<br><img width=\"1024\" src=\"https://raw.githubusercontent.com/ultralytics/assets/main/im/banner-tasks.png\">\n"
      ],
      "metadata": {
        "id": "g0tDybQ-vXBP"
      }
    },
    {
      "cell_type": "code",
      "source": [
        "# What you need to inference from model (task = segment, detect, pose)\n",
        "!yolo task=segment mode=predict model=\"/content/best.pt\" source=\"/content/DATA_TRAIN/valid/images/100.jpg\""
      ],
      "metadata": {
        "id": "CVLv5uX8iO4n"
      },
      "execution_count": null,
      "outputs": []
    },
    {
      "cell_type": "code",
      "source": [
        "# Extract and copy to another direction\n",
        "!unzip '/content/drive/MyDrive/TEACHING_COMPUTER_VISION/DATA_BASE/Shuffle_Images_v1.zip' -d '/content'"
      ],
      "metadata": {
        "id": "MCVr8fXsdfOt"
      },
      "execution_count": null,
      "outputs": []
    },
    {
      "cell_type": "code",
      "source": [
        "# For loop of prediction\n",
        "import glob\n",
        "from tqdm import tqdm\n",
        "import os\n",
        "\n",
        "path = os.path.join(os.getcwd(),\"Shuffle_Images_v1\")\n",
        "all_image = sorted(glob.glob(path + '/'+ '*.jpg'))\n",
        "print(all_image)\n",
        "for i, image in tqdm(enumerate(all_image),total=len(all_image), desc = \"Processing\"):\n",
        "  !yolo task=segment mode=predict model=\"/content/best.pt\" source= '{image}'"
      ],
      "metadata": {
        "id": "uT1w-uPROXuh"
      },
      "execution_count": null,
      "outputs": []
    },
    {
      "cell_type": "code",
      "source": [
        "!zip -r /content/sample_data.zip /content/runs/segment"
      ],
      "metadata": {
        "id": "0sYHBqlxb6Cj"
      },
      "execution_count": null,
      "outputs": []
    },
    {
      "cell_type": "code",
      "source": [
        "# Download folfer\n",
        "from google.colab import files\n",
        "files.download('/content/sample_data.zip')"
      ],
      "metadata": {
        "id": "hduoztx2-71r"
      },
      "execution_count": null,
      "outputs": []
    },
    {
      "cell_type": "markdown",
      "source": [
        "# 3. Reference\n",
        "\n",
        " You can reference offical [Yolov8](https://colab.research.google.com/github/ultralytics/ultralytics/blob/main/examples/tutorial.ipynb#scrollTo=1NcFxRcFdJ_O) here."
      ],
      "metadata": {
        "id": "faEhCVOEiPVq"
      }
    }
  ]
}