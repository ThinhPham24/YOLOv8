{
  "cells": [
    {
      "cell_type": "markdown",
      "metadata": {
        "id": "KpK-BnsrgZS1"
      },
      "source": [
        "<div align=\"center\">\n",
        "\n",
        "  <a href=\"https://ultralytics.com/yolov8\" target=\"_blank\">\n",
        "    <img width=\"1024\", src=\"https://raw.githubusercontent.com/ultralytics/assets/main/yolov8/banner-yolov8.png\"></a>\n",
        "\n",
        "\n",
        "<br>\n",
        "  <a href=\"https://console.paperspace.com/github/ultralytics/ultralytics\"><img src=\"https://assets.paperspace.io/img/gradient-badge.svg\" alt=\"Run on Gradient\"/></a>\n",
        "  <a href=\"https://colab.research.google.com/github/ultralytics/ultralytics/blob/main/examples/tutorial.ipynb\"><img src=\"https://colab.research.google.com/assets/colab-badge.svg\" alt=\"Open In Colab\"></a>\n",
        "  <a href=\"https://www.kaggle.com/ultralytics/yolov8\"><img src=\"https://kaggle.com/static/images/open-in-kaggle.svg\" alt=\"Open In Kaggle\"></a>\n",
        "<br>\n",
        "\n",
        "Welcome to the Ultralytics YOLOv8 🚀 notebook! <a href=\"https://github.com/ultralytics/ultralytics\">YOLOv8</a> is the latest version of the YOLO (You Only Look Once) AI models developed by <a href=\"https://ultralytics.com\">Ultralytics</a>. This notebook serves as the starting point for exploring the various resources available to help you get started with YOLOv8 and understand its features and capabilities.\n",
        "\n",
        "YOLOv8 models are fast, accurate, and easy to use, making them ideal for various object detection and image segmentation tasks. They can be trained on large datasets and run on diverse hardware platforms, from CPUs to GPUs.\n",
        "\n",
        "We hope that the resources in this notebook will help you get the most out of YOLOv8. Please browse the YOLOv8 <a href=\"https://docs.ultralytics.com/\">Docs</a> for details, raise an issue on <a href=\"https://github.com/ultralytics/ultralytics\">GitHub</a> for support, and join our <a href=\"https://discord.gg/2wNGbc6g9X\">Discord</a> community for questions and discussions!\n",
        "\n",
        "</div>"
      ]
    },
    {
      "cell_type": "markdown",
      "metadata": {
        "id": "P5AEHmS3gbXV"
      },
      "source": [
        "# Setup\n",
        "\n",
        "Pip install `ultralytics` and [dependencies](https://github.com/ultralytics/ultralytics/blob/main/requirements.txt) and check software and hardware."
      ]
    },
    {
      "cell_type": "code",
      "execution_count": null,
      "metadata": {
        "id": "hcJOj83pgRp8"
      },
      "outputs": [],
      "source": [
        "%pip install ultralytics\n",
        "import ultralytics\n",
        "ultralytics.checks()"
      ]
    },
    {
      "cell_type": "markdown",
      "metadata": {
        "id": "ku8gF1osgjQT"
      },
      "source": [
        "# Connect google drive"
      ]
    },
    {
      "cell_type": "code",
      "execution_count": null,
      "metadata": {
        "id": "9NpZaDdIgycw"
      },
      "outputs": [],
      "source": [
        "from google.colab import drive\n",
        "import os\n",
        "drive.mount('/content/drive')"
      ]
    },
    {
      "cell_type": "code",
      "execution_count": null,
      "metadata": {
        "id": "qbtt1AcOkX6j"
      },
      "outputs": [],
      "source": [
        "# Extract and copy to another direction\n",
        "!unzip '/content/drive/MyDrive/TEACHING_COMPUTER_VISION/DATA_BASE/Shuffle_Images_v1.zip' -d '/content'"
      ]
    },
    {
      "cell_type": "markdown",
      "metadata": {
        "id": "fOldnwVAg6ll"
      },
      "source": [
        "# 1. Custom Trainning\n",
        "\n",
        "<p align=\"\"><a href=\"https://bit.ly/ultralytics_hub\"><img width=\"1000\" src=\"https://github.com/ultralytics/assets/raw/main/yolov8/banner-integrations.png\"/></a></p>\n",
        "\n",
        "Train YOLOv8 on [Detect](https://docs.ultralytics.com/tasks/detect/), [Segment](https://docs.ultralytics.com/tasks/segment/), [Classify](https://docs.ultralytics.com/tasks/classify/) and [Pose](https://docs.ultralytics.com/tasks/pose/) datasets. See [YOLOv8 Train Docs](https://docs.ultralytics.com/modes/train/) for more information."
      ]
    },
    {
      "cell_type": "markdown",
      "metadata": {
        "id": "2NMT-UXfuxNH"
      },
      "source": [
        "### 1.1 Segmentation\n",
        "\n",
        "YOLOv8 segmentation models use the -seg suffix, i.e. yolov8n-seg.pt and are pretrained on COCO. See Segmentation Docs for full details."
      ]
    },
    {
      "cell_type": "code",
      "execution_count": null,
      "metadata": {
        "id": "EqzRlYtaA8St"
      },
      "outputs": [],
      "source": [
        "!nvidia-smi"
      ]
    },
    {
      "cell_type": "code",
      "execution_count": null,
      "metadata": {
        "id": "eG67mQDZFUvJ"
      },
      "outputs": [],
      "source": [
        "# First, You should run the trainning program, IF not run, run this code\n",
        "!pip install torch==1.11.0+cu113 torchvision==0.12.0+cu113 torchaudio==0.11.0 --extra-index-url https://download.pytorch.org/whl/cu113"
      ]
    },
    {
      "cell_type": "code",
      "execution_count": null,
      "metadata": {
        "id": "BltdiJOEKp64"
      },
      "outputs": [],
      "source": [
        "# Auto connection colab\n",
        "import IPython\n",
        "from google.colab import output\n",
        "display(IPython.display.Javascript('''\n",
        "function KeepClicking(){\n",
        "console.log(\"Clicking\");\n",
        "document.querySelector(\"colab-connect-button\").click()\n",
        "}\n",
        "setInterval(KeepClicking,60000)\n",
        "'''))"
      ]
    },
    {
      "cell_type": "code",
      "execution_count": null,
      "metadata": {
        "id": "plafQtpEhDMV"
      },
      "outputs": [],
      "source": [
        "# Train YOLOv8l on your own dataset in coco format for 100 epochs\n",
        "!yolo train model=yolov8l-seg.pt data=/content/DATA_TRAIN_YOLO/orchid_config.yaml epochs= 30 imgsz=720"
      ]
    },
    {
      "cell_type": "code",
      "execution_count": null,
      "metadata": {
        "id": "1oneCn7kYitG"
      },
      "outputs": [],
      "source": [
        "# !yolo export model=/content/runs/segment/train/weights/best.pt format=onnx --dnn --opset 12\n",
        "!yolo export model=/content/drive/MyDrive/TEACHING_COMPUTER_VISION/DATA_BASE/best_yolov8.pt format=onnx opset=12 model=SegmentationModel"
      ]
    },
    {
      "cell_type": "code",
      "execution_count": null,
      "metadata": {
        "id": "-QNvARzXvs_a"
      },
      "outputs": [],
      "source": [
        "!yolo task=segment mode=export model=/content/drive/MyDrive/TEACHING_COMPUTER_VISION/DATA_BASE/best_yolov8.pt imgsz=736,736 simplify=true format=onnx opset=12"
      ]
    },
    {
      "cell_type": "code",
      "execution_count": null,
      "metadata": {
        "id": "GKph8gjwY02t"
      },
      "outputs": [],
      "source": [
        "# Download folfer\n",
        "from google.colab import files\n",
        "files.download('/content/runs/segment/train/weights/best.pt')"
      ]
    },
    {
      "cell_type": "code",
      "execution_count": null,
      "metadata": {
        "id": "UR2I1ucvY2QW"
      },
      "outputs": [],
      "source": [
        "from google.colab import files\n",
        "files.download('/content/drive/MyDrive/TEACHING_COMPUTER_VISION/DATA_BASE/best_yolov8.onnx')"
      ]
    },
    {
      "cell_type": "markdown",
      "metadata": {
        "id": "MhKYyV5lh0gm"
      },
      "source": [
        "### 1.2 Tensorboard\n",
        "TensorBoard is a visualization toolkit for TensorFlow. It allows you to visualize your TensorFlow graph, plot quantitative metrics about the execution of your graph, and show additional data like images that pass through it"
      ]
    },
    {
      "cell_type": "code",
      "execution_count": null,
      "metadata": {
        "id": "JMu3vjHRhujn"
      },
      "outputs": [],
      "source": [
        "# Show loss graph\n",
        "!load_ext tensorboard\n",
        "!tensorboard --logdir ultralytics/runs  # replace with 'runs' directory"
      ]
    },
    {
      "cell_type": "markdown",
      "metadata": {
        "id": "X27UoRKmh_qa"
      },
      "source": [
        "# 2. Inference"
      ]
    },
    {
      "cell_type": "markdown",
      "metadata": {
        "id": "g0tDybQ-vXBP"
      },
      "source": [
        "### Tasks\n",
        "\n",
        "YOLOv8 can train, val, predict and export models for the most common tasks in vision AI: [Detect](https://docs.ultralytics.com/tasks/detect/), [Segment](https://docs.ultralytics.com/tasks/segment/), [Classify](https://docs.ultralytics.com/tasks/classify/) and [Pose](https://docs.ultralytics.com/tasks/pose/). See [YOLOv8 Tasks Docs](https://docs.ultralytics.com/tasks/) for more information.\n",
        "\n",
        "<br><img width=\"1024\" src=\"https://raw.githubusercontent.com/ultralytics/assets/main/im/banner-tasks.png\">\n"
      ]
    },
    {
      "cell_type": "code",
      "execution_count": null,
      "metadata": {
        "id": "CVLv5uX8iO4n"
      },
      "outputs": [],
      "source": [
        "# What you need to inference from model (task = segment, detect, pose)\n",
        "!yolo task=segment mode=predict model=\"/content/best.pt\" source=\"/content/DATA_TRAIN/valid/images/100.jpg\""
      ]
    },
    {
      "cell_type": "code",
      "execution_count": null,
      "metadata": {
        "id": "MCVr8fXsdfOt"
      },
      "outputs": [],
      "source": [
        "# Extract and copy to another direction\n",
        "!unzip '/content/drive/MyDrive/TEACHING_COMPUTER_VISION/DATA_BASE/Shuffle_Images_v1.zip' -d '/content'"
      ]
    },
    {
      "cell_type": "code",
      "execution_count": null,
      "metadata": {
        "id": "uT1w-uPROXuh"
      },
      "outputs": [],
      "source": [
        "# For loop of prediction\n",
        "import glob\n",
        "from tqdm import tqdm\n",
        "import os\n",
        "\n",
        "path = os.path.join(os.getcwd(),\"Shuffle_Images_v1\")\n",
        "all_image = sorted(glob.glob(path + '/'+ '*.jpg'))\n",
        "print(all_image)\n",
        "for i, image in tqdm(enumerate(all_image),total=len(all_image), desc = \"Processing\"):\n",
        "  !yolo task=segment mode=predict model=\"/content/best.pt\" source= '{image}'"
      ]
    },
    {
      "cell_type": "code",
      "execution_count": null,
      "metadata": {
        "id": "0sYHBqlxb6Cj"
      },
      "outputs": [],
      "source": [
        "!zip -r /content/sample_data.zip /content/runs/segment"
      ]
    },
    {
      "cell_type": "code",
      "execution_count": null,
      "metadata": {
        "id": "hduoztx2-71r"
      },
      "outputs": [],
      "source": [
        "# Download folfer\n",
        "from google.colab import files\n",
        "files.download('/content/sample_data.zip')"
      ]
    },
    {
      "cell_type": "markdown",
      "metadata": {
        "id": "faEhCVOEiPVq"
      },
      "source": [
        "# 3. Reference\n",
        "\n",
        " You can reference offical [Yolov8](https://colab.research.google.com/github/ultralytics/ultralytics/blob/main/examples/tutorial.ipynb#scrollTo=1NcFxRcFdJ_O) here."
      ]
    },
    {
      "cell_type": "markdown",
      "metadata": {
        "id": "7aKJXkED4wR8"
      },
      "source": [
        "# 4. Loop inference"
      ]
    },
    {
      "cell_type": "code",
      "execution_count": null,
      "metadata": {
        "id": "svpY9o2T5H50"
      },
      "outputs": [],
      "source": [
        "# For loop of prediction\n",
        "import glob\n",
        "from tqdm import tqdm\n",
        "import os\n",
        "from ultralytics import YOLO\n",
        "from ultralytics.engine.results import Results\n",
        "import time\n",
        "\n",
        "path = os.path.join(os.getcwd(),\"Shuffle_Images_v1\")\n",
        "all_image = sorted(glob.glob(path + '/'+ '*.jpg'))\n",
        "global r\n",
        "import cv2\n",
        "# # Load the model.\n",
        "model = YOLO('/content/drive/MyDrive/TEACHING_COMPUTER_VISION/DATA_BASE/best_yolov8.pt',task = 'segment')\n",
        "threshold = 0.7\n",
        "# path_img = glob.glob(path + '/' + '*.jpg')\n",
        "t1 = time.time()\n",
        "print(\"lenght:\",len(all_image))\n",
        "num = len(all_image)\n",
        "if __name__ == '__main__':\n",
        "    for i, image in tqdm(enumerate(all_image), total=6236, desc = \"Processing\"):\n",
        "        print(\"image name:\",image)\n",
        "        base_name = os.path.basename(image)\n",
        "        try:\n",
        "            r = model.predict(source = image,stream=False,conf = threshold)[0] #Set confident score = 0.8\n",
        "            # if r is None:\n",
        "            #     continue\n",
        "            image_pred = Results(orig_img=r.orig_img,path=r.path,names= r.names,boxes=r.boxes.data,masks=r.masks.data).plot()\n",
        "            out_image = os.path.join('/content/drive/MyDrive/TEACHING_COMPUTER_VISION/OUTPUT',base_name)\n",
        "            if image_pred is None:\n",
        "                continue\n",
        "            else:\n",
        "                cv2.imwrite(out_image,image_pred)\n",
        "                # cv2.imshow(\"predicted image\", image_pred)\n",
        "                # cv2.waitKey(0)\n",
        "            # break\n",
        "        except TypeError:\n",
        "              continue\n",
        "print(\"Time Total:\", (time.time()-t1))"
      ]
    }
  ],
  "metadata": {
    "accelerator": "GPU",
    "colab": {
      "cell_execution_strategy": "setup",
      "gpuType": "T4",
      "private_outputs": true,
      "provenance": []
    },
    "kernelspec": {
      "display_name": "Python 3",
      "name": "python3"
    },
    "language_info": {
      "name": "python"
    }
  },
  "nbformat": 4,
  "nbformat_minor": 0
}
